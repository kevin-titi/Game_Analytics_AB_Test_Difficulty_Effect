{
 "cells": [
  {
   "cell_type": "markdown",
   "id": "9dd3756c",
   "metadata": {},
   "source": [
    "<font size=5><b>Game Analytics: A/B Test for the effect of change in difficulty</b></font><br><font size=4>Chaiyapuk Titinanapun</font>"
   ]
  },
  {
   "cell_type": "code",
   "execution_count": 1,
   "id": "3c135e83",
   "metadata": {},
   "outputs": [],
   "source": [
    "import numpy as np\n",
    "import pandas as pd\n",
    "\n",
    "# https://www.geeksforgeeks.org/how-to-conduct-a-two-sample-t-test-in-python/\n",
    "# https://www.statsmodels.org/stable/generated/statsmodels.stats.weightstats.ttest_ind.html\n",
    "from statsmodels.stats.weightstats import ttest_ind"
   ]
  },
  {
   "cell_type": "markdown",
   "id": "8e550002",
   "metadata": {},
   "source": [
    "# Data\n",
    "\n",
    "This is a dataset for player's performance in two different groups, Test Group 1 and 2. Game difficulty has been adjusted in group 2. <b>Thus, we will conduct an A/B Testing between groups for two in-game metrics, GameExp and Quest Completion Rate.</b>"
   ]
  },
  {
   "cell_type": "code",
   "execution_count": 4,
   "id": "9045e4bc",
   "metadata": {},
   "outputs": [
    {
     "data": {
      "text/html": [
       "<div>\n",
       "<style scoped>\n",
       "    .dataframe tbody tr th:only-of-type {\n",
       "        vertical-align: middle;\n",
       "    }\n",
       "\n",
       "    .dataframe tbody tr th {\n",
       "        vertical-align: top;\n",
       "    }\n",
       "\n",
       "    .dataframe thead th {\n",
       "        text-align: right;\n",
       "    }\n",
       "</style>\n",
       "<table border=\"1\" class=\"dataframe\">\n",
       "  <thead>\n",
       "    <tr style=\"text-align: right;\">\n",
       "      <th></th>\n",
       "      <th>User ID</th>\n",
       "      <th>Test Group</th>\n",
       "      <th>GameExp</th>\n",
       "      <th>Quest Taken</th>\n",
       "      <th>Quest Completed</th>\n",
       "      <th>Dialogues</th>\n",
       "      <th>Loots</th>\n",
       "      <th>Loots Items</th>\n",
       "      <th>Loots Dead</th>\n",
       "      <th>Shots</th>\n",
       "      <th>Kills</th>\n",
       "      <th>Interaction NPC</th>\n",
       "      <th>Interaction Container</th>\n",
       "      <th>Attacks</th>\n",
       "      <th>Attacks - Quest Related</th>\n",
       "      <th>Attacks - Friendly NPC</th>\n",
       "      <th>Attacks - UnMotivated</th>\n",
       "      <th>Attacks - SelfDefense</th>\n",
       "      <th>Trajectory</th>\n",
       "    </tr>\n",
       "  </thead>\n",
       "  <tbody>\n",
       "    <tr>\n",
       "      <th>0</th>\n",
       "      <td>101</td>\n",
       "      <td>2</td>\n",
       "      <td>2.126400</td>\n",
       "      <td>7</td>\n",
       "      <td>5</td>\n",
       "      <td>39</td>\n",
       "      <td>48</td>\n",
       "      <td>42</td>\n",
       "      <td>4</td>\n",
       "      <td>115</td>\n",
       "      <td>10</td>\n",
       "      <td>16</td>\n",
       "      <td>32</td>\n",
       "      <td>47</td>\n",
       "      <td>38</td>\n",
       "      <td>0</td>\n",
       "      <td>4</td>\n",
       "      <td>5</td>\n",
       "      <td>[Introhouse, Outside, Bar, Outside, SheriffOff...</td>\n",
       "    </tr>\n",
       "    <tr>\n",
       "      <th>1</th>\n",
       "      <td>103</td>\n",
       "      <td>1</td>\n",
       "      <td>-0.674583</td>\n",
       "      <td>9</td>\n",
       "      <td>4</td>\n",
       "      <td>47</td>\n",
       "      <td>35</td>\n",
       "      <td>33</td>\n",
       "      <td>2</td>\n",
       "      <td>0</td>\n",
       "      <td>1</td>\n",
       "      <td>23</td>\n",
       "      <td>33</td>\n",
       "      <td>7</td>\n",
       "      <td>7</td>\n",
       "      <td>0</td>\n",
       "      <td>0</td>\n",
       "      <td>0</td>\n",
       "      <td>[Introhouse, Outside, Bar, Outside, SheriffOff...</td>\n",
       "    </tr>\n",
       "    <tr>\n",
       "      <th>2</th>\n",
       "      <td>105</td>\n",
       "      <td>1</td>\n",
       "      <td>-1.988516</td>\n",
       "      <td>7</td>\n",
       "      <td>5</td>\n",
       "      <td>68</td>\n",
       "      <td>1</td>\n",
       "      <td>0</td>\n",
       "      <td>1</td>\n",
       "      <td>0</td>\n",
       "      <td>1</td>\n",
       "      <td>27</td>\n",
       "      <td>20</td>\n",
       "      <td>3</td>\n",
       "      <td>3</td>\n",
       "      <td>0</td>\n",
       "      <td>0</td>\n",
       "      <td>0</td>\n",
       "      <td>[Introhouse, Outside, Introhouse, Outside, Aba...</td>\n",
       "    </tr>\n",
       "  </tbody>\n",
       "</table>\n",
       "</div>"
      ],
      "text/plain": [
       "   User ID  Test Group   GameExp  Quest Taken  Quest Completed  Dialogues  \\\n",
       "0      101           2  2.126400            7                5         39   \n",
       "1      103           1 -0.674583            9                4         47   \n",
       "2      105           1 -1.988516            7                5         68   \n",
       "\n",
       "   Loots  Loots Items  Loots Dead  Shots  Kills  Interaction NPC  \\\n",
       "0     48           42           4    115     10               16   \n",
       "1     35           33           2      0      1               23   \n",
       "2      1            0           1      0      1               27   \n",
       "\n",
       "   Interaction Container  Attacks  Attacks - Quest Related  \\\n",
       "0                     32       47                       38   \n",
       "1                     33        7                        7   \n",
       "2                     20        3                        3   \n",
       "\n",
       "   Attacks - Friendly NPC  Attacks - UnMotivated  Attacks - SelfDefense  \\\n",
       "0                       0                      4                      5   \n",
       "1                       0                      0                      0   \n",
       "2                       0                      0                      0   \n",
       "\n",
       "                                          Trajectory  \n",
       "0  [Introhouse, Outside, Bar, Outside, SheriffOff...  \n",
       "1  [Introhouse, Outside, Bar, Outside, SheriffOff...  \n",
       "2  [Introhouse, Outside, Introhouse, Outside, Aba...  "
      ]
     },
     "execution_count": 4,
     "metadata": {},
     "output_type": "execute_result"
    }
   ],
   "source": [
    "hw3_data_abtest = pd.read_csv(\"hw3_data.csv\")\n",
    "hw3_data_abtest.head(3)"
   ]
  },
  {
   "cell_type": "code",
   "execution_count": 5,
   "id": "291a186b",
   "metadata": {},
   "outputs": [
    {
     "data": {
      "text/plain": [
       "Test Group\n",
       "1    37\n",
       "2    33\n",
       "dtype: int64"
      ]
     },
     "execution_count": 5,
     "metadata": {},
     "output_type": "execute_result"
    }
   ],
   "source": [
    "hw3_data_abtest.groupby([\"Test Group\"]).size()"
   ]
  },
  {
   "cell_type": "markdown",
   "id": "67ef1aca",
   "metadata": {},
   "source": [
    "# GameExp\n",
    "\n",
    "## Scenario: We tweaked the difficulty of the game for test group 2. We would like to run an A/B test to see if the change in difficulty made a difference for <font color=red>GameExp</font>.\n",
    "\n",
    "## Before the test:\n",
    "\n",
    "- 1 Metrics: Average GameExp of each player (not proportion)\n",
    "\n",
    "- 2-a We will test our hypothesis of expected change in GameExp between groups being 0.00 (No change)\n",
    "\n",
    "- 2-b confidence level 95%\n",
    "\n",
    "## With 70 samples, use `statsmodels` to calculate statistical test results"
   ]
  },
  {
   "cell_type": "code",
   "execution_count": 4,
   "id": "4093493e",
   "metadata": {},
   "outputs": [
    {
     "data": {
      "text/plain": [
       "<Axes: >"
      ]
     },
     "execution_count": 4,
     "metadata": {},
     "output_type": "execute_result"
    },
    {
     "data": {
      "image/png": "[encoded data removed]",
      "text/plain": [
       "<Figure size 640x480 with 1 Axes>"
      ]
     },
     "metadata": {},
     "output_type": "display_data"
    }
   ],
   "source": [
    "# The the distribution of sample is not normal, but the distribution of the mean should be.\n",
    "hw3_data_abtest[\"GameExp\"].hist(bins=20)"
   ]
  },
  {
   "cell_type": "markdown",
   "id": "c3253c7a",
   "metadata": {},
   "source": [
    "Based on central limit theorem, we assume the distribution of \"the mean of each group\" being normally distribruted."
   ]
  },
  {
   "cell_type": "code",
   "execution_count": 5,
   "id": "818fa68a",
   "metadata": {},
   "outputs": [
    {
     "data": {
      "text/plain": [
       "Test Group\n",
       "1   -0.975381\n",
       "2    0.885909\n",
       "Name: GameExp, dtype: float64"
      ]
     },
     "execution_count": 5,
     "metadata": {},
     "output_type": "execute_result"
    }
   ],
   "source": [
    "# Assuming the distributions of these two numbers as normal distribution.\n",
    "hw3_data_abtest.groupby(\"Test Group\")[\"GameExp\"].mean()"
   ]
  },
  {
   "cell_type": "code",
   "execution_count": 6,
   "id": "6f598eba",
   "metadata": {},
   "outputs": [
    {
     "name": "stdout",
     "output_type": "stream",
     "text": [
      "tstat: -4.345537266490658\n",
      "pvalue: 7.006208793317454e-05\n",
      "df: 48.88318812366832\n"
     ]
    }
   ],
   "source": [
    "tstat, pvalue, df = ttest_ind(hw3_data_abtest[hw3_data_abtest[\"Test Group\"]==1][\"GameExp\"],\n",
    "                        hw3_data_abtest[hw3_data_abtest[\"Test Group\"]==2][\"GameExp\"],\n",
    "                        alternative = 'two-sided',\n",
    "                        usevar = 'unequal', # I assumed that the change in difficulty may change the deviation with GameExp\n",
    "                        value = 0)\n",
    "\n",
    "print(f\"tstat: {tstat}\")\n",
    "print(f\"pvalue: {pvalue}\")\n",
    "print(f\"df: {df}\")"
   ]
  },
  {
   "cell_type": "markdown",
   "id": "d4f48bfa",
   "metadata": {},
   "source": [
    "# Quest Completion Rate\n",
    "\n",
    "## Scenario: We tweaked the difficulty of the game for test group 2. We would like to run an A/B test to see if the change in difficulty made a difference for <font color=red>quest completion rate</font>.\n",
    "\n",
    "## Before the test:\n",
    "\n",
    "- 1 Metrics: Average quest completion rate of each player (not proportion)\n",
    "\n",
    "<font color=red>We will not assume that quests taken are independent from each other and we will not treat this as a proportion metric.</font> Quest completion rate depends on how good each player's status/skill in the game is. Thus, we will aggregate the quest completion rate of each player first.\n",
    "\n",
    "- 2-a We will test our hypothesis of expected change in quest completion rate being 0.00 (No change)\n",
    "\n",
    "- 2-b confidence level 95%\n",
    "\n",
    "## With 70 samples, use `statsmodels` to calculate statistical test results"
   ]
  },
  {
   "cell_type": "code",
   "execution_count": 7,
   "id": "90e37f7d",
   "metadata": {},
   "outputs": [
    {
     "data": {
      "text/plain": [
       "0     0.714286\n",
       "1     0.444444\n",
       "2     0.714286\n",
       "3     0.375000\n",
       "4     0.500000\n",
       "        ...   \n",
       "65    0.714286\n",
       "66    0.363636\n",
       "67    0.500000\n",
       "68    0.444444\n",
       "69    1.000000\n",
       "Name: Quest Completion Rate, Length: 70, dtype: float64"
      ]
     },
     "execution_count": 7,
     "metadata": {},
     "output_type": "execute_result"
    }
   ],
   "source": [
    "# Aggregate the quest completion rate of each player first\n",
    "hw3_data_abtest[\"Quest Completion Rate\"] = hw3_data_abtest[\"Quest Completed\"] /  hw3_data_abtest[\"Quest Taken\"]\n",
    "hw3_data_abtest[\"Quest Completion Rate\"]"
   ]
  },
  {
   "cell_type": "code",
   "execution_count": 8,
   "id": "a6583df2",
   "metadata": {},
   "outputs": [
    {
     "data": {
      "text/plain": [
       "<Axes: >"
      ]
     },
     "execution_count": 8,
     "metadata": {},
     "output_type": "execute_result"
    },
    {
     "data": {
      "image/png": "[encoded data removed]",
      "text/plain": [
       "<Figure size 640x480 with 1 Axes>"
      ]
     },
     "metadata": {},
     "output_type": "display_data"
    }
   ],
   "source": [
    "# The the distribution of sample is not normal, but the distribution of the mean should be.\n",
    "hw3_data_abtest[\"Quest Completion Rate\"].hist(bins=20)"
   ]
  },
  {
   "cell_type": "markdown",
   "id": "6bdcc403",
   "metadata": {},
   "source": [
    "Based on central limit theorem, we assume the distribution of \"the mean of each group\" being normally distribruted."
   ]
  },
  {
   "cell_type": "code",
   "execution_count": 9,
   "id": "16f84c68",
   "metadata": {},
   "outputs": [
    {
     "data": {
      "text/plain": [
       "Test Group\n",
       "1    0.482562\n",
       "2    0.524253\n",
       "Name: Quest Completion Rate, dtype: float64"
      ]
     },
     "execution_count": 9,
     "metadata": {},
     "output_type": "execute_result"
    }
   ],
   "source": [
    "# Assuming the distributions of these two numbers as normal distribution.\n",
    "hw3_data_abtest.groupby(\"Test Group\")[\"Quest Completion Rate\"].mean()"
   ]
  },
  {
   "cell_type": "code",
   "execution_count": 10,
   "id": "a2db6e08",
   "metadata": {},
   "outputs": [
    {
     "name": "stdout",
     "output_type": "stream",
     "text": [
      "tstat: -0.9603789025359427\n",
      "pvalue: 0.3403256759199408\n",
      "df: 66.8444658670575\n"
     ]
    }
   ],
   "source": [
    "tstat, pvalue, df = ttest_ind(hw3_data_abtest[hw3_data_abtest[\"Test Group\"]==1][\"Quest Completion Rate\"],\n",
    "                        hw3_data_abtest[hw3_data_abtest[\"Test Group\"]==2][\"Quest Completion Rate\"],\n",
    "                        alternative = 'two-sided',\n",
    "                        usevar = 'unequal', # I assumed that the change in difficulty may change the deviation with Quest Completion Rate\n",
    "                        value = 0)\n",
    "\n",
    "print(f\"tstat: {tstat}\")\n",
    "print(f\"pvalue: {pvalue}\")\n",
    "print(f\"df: {df}\")"
   ]
  },
  {
   "cell_type": "markdown",
   "id": "c3806bfb",
   "metadata": {},
   "source": [
    "# Conclusion"
   ]
  },
  {
   "cell_type": "markdown",
   "id": "86e95fe7",
   "metadata": {},
   "source": [
    "Based on two statistical testing between Test Groups, we conclude:\n",
    "- <b>The change in difficulty made a difference for GameExp (pvalue = 0.00007 < 0.05, statistically different).</b> The GameExp has been increased by 1.86 from -0.98 in Group 1 to 0.89 in Group 2.\n",
    "- <b>The change in difficulty didn't make a difference for Quest Completion Rate (pvalue = 0.34 >= 0.05, not statistically different).</b> Assuming by null hypothesis, Quest Completion Rate is still 48.26%."
   ]
  }
 ],
 "metadata": {
  "kernelspec": {
   "display_name": "Python 3 (ipykernel)",
   "language": "python",
   "name": "python3"
  },
  "language_info": {
   "codemirror_mode": {
    "name": "ipython",
    "version": 3
   },
   "file_extension": ".py",
   "mimetype": "text/x-python",
   "name": "python",
   "nbconvert_exporter": "python",
   "pygments_lexer": "ipython3",
   "version": "3.10.9"
  },
  "toc": {
   "base_numbering": 1,
   "nav_menu": {},
   "number_sections": true,
   "sideBar": true,
   "skip_h1_title": false,
   "title_cell": "Table of Contents",
   "title_sidebar": "Contents",
   "toc_cell": false,
   "toc_position": {
    "height": "calc(100% - 180px)",
    "left": "10px",
    "top": "150px",
    "width": "300.326px"
   },
   "toc_section_display": true,
   "toc_window_display": true
  }
 },
 "nbformat": 4,
 "nbformat_minor": 5
}
